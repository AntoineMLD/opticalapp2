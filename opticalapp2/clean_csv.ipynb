{
 "cells": [
  {
   "cell_type": "code",
   "execution_count": 39,
   "metadata": {},
   "outputs": [
    {
     "name": "stderr",
     "output_type": "stream",
     "text": [
      "C:\\Users\\antoi\\AppData\\Local\\Temp\\ipykernel_30112\\3732642837.py:17: FutureWarning: Setting an item of incompatible dtype is deprecated and will raise an error in a future version of pandas. Value '' has dtype incompatible with float64, please explicitly cast to a compatible dtype first.\n",
      "  df.fillna('', inplace=True)\n"
     ]
    }
   ],
   "source": [
    "import pandas as pd\n",
    "\n",
    "# Charger le fichier CSV\n",
    "csv_file_path = 'test2_mapped.csv'\n",
    "df = pd.read_csv(csv_file_path)\n",
    "\n",
    "# Nettoyage des noms de verres\n",
    "df['nom_verre'] = df['nom_verre'].str.lower().str.strip()\n",
    "df['nom_verre'] = df['nom_verre'].str.replace(r'[\\/\\?%*:|\"<>]', '_', regex=True)\n",
    "df['nom_verre'] = df['nom_verre'].str.replace(r'\\s+', '_', regex=True)\n",
    "df['nom_verre'] = df['nom_verre'].str.replace(\"'\", '').str.replace('\"', '')\n",
    "\n",
    "# Supprimer les doublons\n",
    "#df.drop_duplicates(subset='nom_verre', inplace=True)\n",
    "\n",
    "# Vérification des valeurs manquantes\n",
    "df.fillna('', inplace=True)\n",
    "\n",
    "df.head(80)\n",
    "\n",
    "# Sauvegarder le fichier nettoyé\n",
    "df.to_csv('test2_mapped_cleaned.csv', index=False)\n"
   ]
  },
  {
   "cell_type": "code",
   "execution_count": 43,
   "metadata": {},
   "outputs": [
    {
     "name": "stdout",
     "output_type": "stream",
     "text": [
      "Nettoyage terminé. Fichier enregistré sous : test2_mapped_cleaned2.csv\n"
     ]
    }
   ],
   "source": [
    "import pandas as pd\n",
    "import re\n",
    "\n",
    "# Charger le fichier CSV dans un DataFrame\n",
    "csv_file_path = 'test2_mapped_cleaned.csv'  # Remplacez par le chemin de votre fichier CSV\n",
    "df = pd.read_csv(csv_file_path)\n",
    "\n",
    "# Fonction de nettoyage pour le nom du verre\n",
    "def nettoyer_nom_verre(nom):\n",
    "    # Convertir en chaîne si ce n'est pas déjà une chaîne (pour éviter les erreurs)\n",
    "    if pd.isna(nom):\n",
    "        return \"non_identifie\"\n",
    "    nom = str(nom)\n",
    "    \n",
    "    # Utiliser des expressions régulières flexibles pour supprimer les phrases indésirables\n",
    "    patterns_to_remove = [\n",
    "        r'_\\(disponibles?_à_partir_du_23_septembre_2024\\)',\n",
    "        r'_\\(nouvelle_appellation.*?\\)',  # Supprimer toute phrase qui commence par '_(nouvelle_appellation'\n",
    "    ]\n",
    "    for pattern in patterns_to_remove:\n",
    "        nom = re.sub(pattern, '', nom, flags=re.IGNORECASE)\n",
    "    \n",
    "    # Supprimer les caractères spéciaux indésirables, sauf les tirets et les espaces\n",
    "    nom = re.sub(r'[^\\w\\s-]', '', nom)\n",
    "    \n",
    "    # Remplacer les espaces multiples par un seul underscore\n",
    "    nom = re.sub(r'\\s+', '_', nom)\n",
    "\n",
    "    # Supprimer les underscores ou espaces en début et fin de chaîne\n",
    "    nom = nom.strip('_').strip()\n",
    "    \n",
    "    # Limiter à 90 caractères\n",
    "    if len(nom) > 90:\n",
    "        nom = nom[:90]\n",
    "\n",
    "    return nom\n",
    "\n",
    "\n",
    "# Appliquer la fonction de nettoyage\n",
    "df['nom_verre'] = df['nom_verre'].apply(nettoyer_nom_verre)\n",
    "\n",
    "# Enregistrer le fichier CSV mis à jour\n",
    "csv_output_path = 'test2_mapped_cleaned2.csv'  # Remplacez par le chemin de sortie souhaité\n",
    "df.to_csv(csv_output_path, index=False)\n",
    "\n",
    "print(\"Nettoyage terminé. Fichier enregistré sous :\", csv_output_path)\n"
   ]
  }
 ],
 "metadata": {
  "kernelspec": {
   "display_name": "envopti2",
   "language": "python",
   "name": "python3"
  },
  "language_info": {
   "codemirror_mode": {
    "name": "ipython",
    "version": 3
   },
   "file_extension": ".py",
   "mimetype": "text/x-python",
   "name": "python",
   "nbconvert_exporter": "python",
   "pygments_lexer": "ipython3",
   "version": "3.12.4"
  }
 },
 "nbformat": 4,
 "nbformat_minor": 2
}
